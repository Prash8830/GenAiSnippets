{
 "cells": [
  {
   "cell_type": "code",
   "execution_count": null,
   "id": "0461e58a",
   "metadata": {},
   "outputs": [],
   "source": [
    "!pip install neo4j"
   ]
  },
  {
   "cell_type": "code",
   "execution_count": null,
   "id": "5b5716a4",
   "metadata": {},
   "outputs": [],
   "source": [
    "!pip install python-dotenv"
   ]
  },
  {
   "cell_type": "code",
   "execution_count": null,
   "id": "1031ee8b",
   "metadata": {},
   "outputs": [],
   "source": [
    "!pip install langchain"
   ]
  },
  {
   "cell_type": "code",
   "execution_count": null,
   "id": "73541067",
   "metadata": {},
   "outputs": [],
   "source": [
    "!pip install -U langchain-google-genai"
   ]
  },
  {
   "cell_type": "code",
   "execution_count": null,
   "id": "986ecca3",
   "metadata": {},
   "outputs": [],
   "source": [
    "!pip install langchain-neo4j"
   ]
  },
  {
   "cell_type": "code",
   "execution_count": null,
   "id": "fb9694a7",
   "metadata": {},
   "outputs": [],
   "source": [
    "!pip install langchain-experimental"
   ]
  },
  {
   "cell_type": "code",
   "execution_count": null,
   "id": "45362a71",
   "metadata": {},
   "outputs": [],
   "source": [
    "!pip install wikipedia"
   ]
  },
  {
   "cell_type": "code",
   "execution_count": null,
   "id": "a1ec85eb",
   "metadata": {},
   "outputs": [],
   "source": [
    "import os\n",
    "from dotenv import load_dotenv\n",
    "from neo4j import GraphDatabase"
   ]
  },
  {
   "cell_type": "code",
   "execution_count": null,
   "id": "39a433eb",
   "metadata": {},
   "outputs": [],
   "source": [
    "load_dotenv(dotenv_path='.env')\n",
    "URI  = os.getenv('NEO4J_URL')\n",
    "USER = os.getenv('NEO4J_USER')\n",
    "PWD  = os.getenv('NEO4J_PWD')\n",
    "GOOGLE_API_KEY = os.getenv('GOOGLE_API_KEY')"
   ]
  },
  {
   "cell_type": "code",
   "execution_count": null,
   "id": "09d6f467",
   "metadata": {},
   "outputs": [],
   "source": [
    "from langchain.prompts import ChatPromptTemplate,SystemMessagePromptTemplate,HumanMessagePromptTemplate\n",
    "from langchain_google_genai import ChatGoogleGenerativeAI\n",
    "from langchain_neo4j import Neo4jGraph, GraphCypherQAChain\n",
    "from langchain_experimental.graph_transformers import LLMGraphTransformer"
   ]
  },
  {
   "cell_type": "code",
   "execution_count": null,
   "id": "14a1b875",
   "metadata": {},
   "outputs": [],
   "source": [
    "graph = Neo4jGraph(url=URI, username=USER, password=PWD, enhanced_schema=True)"
   ]
  },
  {
   "cell_type": "code",
   "execution_count": null,
   "id": "d22dfd08",
   "metadata": {},
   "outputs": [],
   "source": [
    "graph.refresh_schema()\n",
    "graph.schema "
   ]
  },
  {
   "cell_type": "code",
   "execution_count": null,
   "id": "2d991c5f",
   "metadata": {},
   "outputs": [],
   "source": [
    "llm = ChatGoogleGenerativeAI(model=\"gemini-2.5-flash\", api_key=GOOGLE_API_KEY, temperature=0)"
   ]
  },
  {
   "cell_type": "code",
   "execution_count": null,
   "id": "2a24abb6",
   "metadata": {},
   "outputs": [],
   "source": [
    "chain  = GraphCypherQAChain.from_llm(\n",
    "    llm, graph=graph, allow_dangerous_requests=True, verbose=True,return_intermediate_steps=True\n",
    ")"
   ]
  },
  {
   "cell_type": "code",
   "execution_count": null,
   "id": "319f8fe7",
   "metadata": {},
   "outputs": [],
   "source": [
    "chain.invoke(\"give me list of iot devices\")"
   ]
  },
  {
   "cell_type": "code",
   "execution_count": null,
   "id": "e5ba2ff0",
   "metadata": {},
   "outputs": [],
   "source": [
    "with open('iot.txt', 'r') as file:\n",
    "    content = file.read()"
   ]
  },
  {
   "cell_type": "code",
   "execution_count": null,
   "id": "d00c3b84",
   "metadata": {},
   "outputs": [],
   "source": [
    "content"
   ]
  },
  {
   "cell_type": "code",
   "execution_count": null,
   "id": "ebb37b8b",
   "metadata": {},
   "outputs": [],
   "source": [
    "llm_transformer = LLMGraphTransformer(llm=llm)"
   ]
  },
  {
   "cell_type": "code",
   "execution_count": null,
   "id": "d2bb8646",
   "metadata": {},
   "outputs": [],
   "source": [
    "from langchain_core.documents import Document\n",
    "\n",
    "documents = [Document(page_content=content)]\n",
    "graph_documents = await llm_transformer.aconvert_to_graph_documents(documents)\n",
    "print(f\"Nodes:{graph_documents[0].nodes}\")\n",
    "print(f\"Relationships:{graph_documents[0].relationships}\")"
   ]
  },
  {
   "cell_type": "code",
   "execution_count": null,
   "id": "071d208d",
   "metadata": {},
   "outputs": [],
   "source": [
    "graph.add_graph_documents(graph_documents,include_source=True)"
   ]
  },
  {
   "cell_type": "code",
   "execution_count": null,
   "id": "503e940b",
   "metadata": {},
   "outputs": [],
   "source": [
    "graph.query(\"MATCH (n) RETURN count(n) AS node_count\")"
   ]
  },
  {
   "cell_type": "code",
   "execution_count": null,
   "id": "17016d7e",
   "metadata": {},
   "outputs": [],
   "source": [
    "from langchain.document_loaders import WikipediaLoader\n",
    "text = WikipediaLoader(query=\"IOT Devices\").load()"
   ]
  },
  {
   "cell_type": "code",
   "execution_count": null,
   "id": "43ba2bc4",
   "metadata": {},
   "outputs": [],
   "source": [
    "text[0].metadata"
   ]
  },
  {
   "cell_type": "code",
   "execution_count": null,
   "id": "7a0a3e17",
   "metadata": {},
   "outputs": [],
   "source": [
    "text = text[0:3]"
   ]
  },
  {
   "cell_type": "code",
   "execution_count": null,
   "id": "600f6ae0",
   "metadata": {},
   "outputs": [],
   "source": [
    "from langchain_core.documents import Document\n",
    "\n",
    "graph_documents = await llm_transformer.aconvert_to_graph_documents(text)\n",
    "print(f\"Nodes:{graph_documents[0].nodes}\")\n",
    "print(f\"Relationships:{graph_documents[0].relationships}\")"
   ]
  },
  {
   "cell_type": "code",
   "execution_count": null,
   "id": "1ab2a4af",
   "metadata": {},
   "outputs": [],
   "source": [
    "from langchain_core.prompts.prompt import PromptTemplate\n",
    "\n",
    "CYPHER_GENERATION_TEMPLATE = \"\"\"Task:Generate Cypher statement to query a graph database.\n",
    "Instructions:\n",
    "Use only the provided relationship types and properties in the schema.\n",
    "Do not use any other relationship types or properties that are not provided.\n",
    "Schema:\n",
    "{schema}\n",
    "Note: Do not include any explanations or apologies in your responses.\n",
    "Do not respond to any questions that might ask anything else than for you to construct a Cypher statement.\n",
    "Do not include any text except the generated Cypher statement.\n",
    "Examples: Here are a few examples of generated Cypher statements for particular questions:\n",
    "# How many people played in Top Gun?\n",
    "MATCH (m:Movie {{name:\"Top Gun\"}})<-[:ACTED_IN]-()\n",
    "RETURN count(*) AS numberOfActors\n",
    "\n",
    "The question is:\n",
    "{question}\"\"\"\n",
    "\n",
    "CYPHER_GENERATION_PROMPT = PromptTemplate(\n",
    "    input_variables=[\"schema\", \"question\"], template=CYPHER_GENERATION_TEMPLATE\n",
    ")\n",
    "\n",
    "chain = GraphCypherQAChain.from_llm(\n",
    "    llm,\n",
    "    graph=graph,\n",
    "    verbose=True,\n",
    "    cypher_prompt=CYPHER_GENERATION_PROMPT,\n",
    "    allow_dangerous_requests=True,\n",
    ")"
   ]
  },
  {
   "cell_type": "code",
   "execution_count": null,
   "id": "317b88d8",
   "metadata": {},
   "outputs": [],
   "source": [
    "chain.invoke({\"query\": \"How many iot devices are there?\"})"
   ]
  },
  {
   "cell_type": "code",
   "execution_count": null,
   "id": "81a4aae1",
   "metadata": {},
   "outputs": [],
   "source": []
  }
 ],
 "metadata": {
  "kernelspec": {
   "display_name": ".venv",
   "language": "python",
   "name": "python3"
  },
  "language_info": {
   "codemirror_mode": {
    "name": "ipython",
    "version": 3
   },
   "file_extension": ".py",
   "mimetype": "text/x-python",
   "name": "python",
   "nbconvert_exporter": "python",
   "pygments_lexer": "ipython3",
   "version": "3.12.3"
  }
 },
 "nbformat": 4,
 "nbformat_minor": 5
}
